{
  "cells": [
    {
      "cell_type": "markdown",
      "metadata": {
        "id": "7gUZzqUXf91d"
      },
      "source": [
        "# Analysis\n",
        "\n",
        "Template for Jupyter notebooks running Python."
      ]
    },
    {
      "cell_type": "markdown",
      "metadata": {
        "id": "ynQbJHvcVm55"
      },
      "source": [
        "Version 0.1.0 \\| First Created July 12, 2023 \\| Updated August 01, 2023\n",
        "\n",
        "## Jupyter Notebook\n",
        "\n",
        "This is an Jupyter Notebook document. For more details on using a Jupyter Notebook see <https://docs.jupyter.org/en/latest/>.\n",
        "\n"
      ]
    },
    {
      "cell_type": "markdown",
      "metadata": {},
      "source": [
        "# Title of Study\n",
        "\n",
        "### Authors\n",
        "\n",
        "- First Name Last Name\\*, email address, @githubname, ORCID link, affiliated institution(s)\n",
        "- First Name Last Name, email address, @githubname, ORCID link, affiliated institution(s)\n",
        "\n",
        "\\* Corresponding author and creator\n",
        "\n"
      ]
    },
    {
      "cell_type": "markdown",
      "metadata": {},
      "source": [
        "### Abstract\n",
        "\n",
        "Write a brief abstract about your research project.\n",
        "\n",
        "If the project is a reproduction or replication study, include a declaration of the study type with a full reference to the original study.\n",
        "For example:\n",
        "\n",
        "This study is a *replication* of:\n",
        "\n",
        "> citation to prior study\n",
        "\n",
        "A graphical abstract of the study could also be included as an image here.\n",
        "\n"
      ]
    },
    {
      "cell_type": "markdown",
      "metadata": {},
      "source": [
        "### Study metadata\n",
        "\n",
        "- `Key words`: Comma-separated list of keywords (tags) for searchability. Geographers often use one or two keywords each for: theory, geographic context, and methods.\n",
        "- `Subject`: select from the [BePress Taxonomy](http://digitalcommons.bepress.com/cgi/viewcontent.cgi?article=1008&context=reference)\n",
        "- `Date created`: date when project was started\n",
        "- `Date modified`: date of most recent revision\n",
        "- `Spatial Coverage`: Specify the geographic extent of your study. This may be a place name and link to a feature in a gazetteer like GeoNames or OpenStreetMap, or a well known text (WKT) representation of a bounding box.\n",
        "- `Spatial Resolution`: Specify the spatial resolution as a scale factor, description of the level of detail of each unit of observation (including administrative level of administrative areas), and/or or distance of a raster GRID size\n",
        "- `Spatial Reference System`: Specify the geographic or projected coordinate system for the study, e.g. EPSG:4326\n",
        "- `Temporal Coverage`: Specify the temporal extent of your study---i.e. the range of time represented by the data observations.\n",
        "- `Temporal Resolution`: Specify the temporal resolution of your study---i.e. the duration of time for which each observation represents or the revisit period for repeated observations\n",
        "- `Funding Name`: name of funding for the project\n",
        "- `Funding Title`: title of project grant\n",
        "- `Award info URI`: web address for award information\n",
        "- `Award number`: award number\n",
        "\n",
        "#### Original study spatio-temporal metadata\n",
        "\n",
        "- `Spatial Coverage`: extent of original study\n",
        "- `Spatial Resolution`: resolution of original study\n",
        "- `Spatial Reference System`: spatial reference system of original study\n",
        "- `Temporal Coverage`: temporal extent of original study\n",
        "- `Temporal Resolution`: temporal resolution of original study\n",
        "\n"
      ]
    },
    {
      "cell_type": "markdown",
      "metadata": {},
      "source": [
        "## Study design\n",
        "\n",
        "Describe how the study relates to prior literature, e.g. is it a **original study**, **meta-analysis study**, **reproduction study**, **reanalysis study**, or **replication study**?\n",
        "\n",
        "Also describe the original study archetype, e.g. is it **observational**, **experimental**, **quasi-experimental**, or **exploratory**?\n",
        "\n",
        "Enumerate specific **hypotheses** to be tested or **research questions** to be investigated here, and specify the type of method, statistical test or model to be used on the hypothesis or question.\n",
        "\n",
        "## Materials and procedure"
      ]
    },
    {
      "cell_type": "markdown",
      "metadata": {
        "id": "lpUbJuwsgQJu"
      },
      "source": [
        "## Computational environment\n",
        "\n",
        "Maintaining a reproducible computational environment requires some conscious choices in package management.\n",
        "\n",
        "Please refer to `00-Python-environment-setup.ipynb` for details.\n",
        "\n"
      ]
    },
    {
      "cell_type": "code",
      "execution_count": null,
      "metadata": {},
      "outputs": [],
      "source": [
        "# Import modules, define directories\n",
        "from pyhere import here\n",
        "\n",
        "# You can define your own shortcuts for file paths:\n",
        "path = {\n",
        "    \"dscr\": here(\"data\", \"scratch\"),\n",
        "    \"drpub\": here(\"data\", \"raw\", \"public\"),\n",
        "    \"drpriv\": here(\"data\", \"raw\", \"private\"),\n",
        "    \"ddpub\": here(\"data\", \"derived\", \"public\"),\n",
        "    \"ddpriv\": here(\"data\", \"derived\", \"private\"),\n",
        "    \"rfig\": here(\"results\", \"figures\"),\n",
        "    \"roth\": here(\"results\", \"other\"),\n",
        "    \"rtab\": here(\"results\", \"tables\"),\n",
        "    \"dmet\": here(\"data\", \"metadata\")\n",
        "}"
      ]
    },
    {
      "cell_type": "markdown",
      "metadata": {
        "id": "dEwHjXmlVXZI"
      },
      "source": [
        "### Data and variables\n",
        "\n",
        "Describe the **data sources** and **variables** to be used.\n",
        "Data sources may include plans for observing and recording **primary data** or descriptions of **secondary data**.\n",
        "For secondary data sources with numerous variables, the analysis plan authors may focus on documenting only the variables intended for use in the study.\n",
        "\n",
        "Primary data sources for the study are to include ... .\n",
        "Secondary data sources for the study are to include ... .\n",
        "\n",
        "Each of the next subsections describes one data source.\n",
        "\n"
      ]
    },
    {
      "cell_type": "markdown",
      "metadata": {},
      "source": [
        "#### Primary data source1 name\n",
        "\n",
        "**Standard Metadata**\n",
        "\n",
        "- `Abstract`: Brief description of the data source\n",
        "- `Spatial Coverage`: Specify the geographic extent of your study. This may be a place name and link to a feature in a gazetteer like GeoNames or OpenStreetMap, or a well known text (WKT) representation of a bounding box.\n",
        "- `Spatial Resolution`: Specify the spatial resolution as a scale factor, description of the level of detail of each unit of observation (including administrative level of administrative areas), and/or or distance of a raster GRID size\n",
        "- `Spatial Reference System`: Specify the geographic or projected coordinate system for the study\n",
        "- `Temporal Coverage`: Specify the temporal extent of your study---i.e. the range of time represented by the data observations.\n",
        "- `Temporal Resolution`: Specify the temporal resolution of your study---i.e. the duration of time for which each observation represents or the revisit period for repeated observations\n",
        "- `Lineage`: Describe and/or cite data sources and/or methodological steps planned to create this data source.\n",
        "  - sampling scheme, including spatial sampling\n",
        "  - target sample size and method for determining sample size\n",
        "  - stopping criteria for data collection and sampling (e.g. sample size, time elapsed)\n",
        "  - de-identification / anonymization\n",
        "  - experimental manipulation\n",
        "- `Distribution`: Describe who will make the data available and how?\n",
        "- `Constraints`: Legal constraints for *access* or *use* to protect *privacy* or *intellectual property rights*\n",
        "- `Data Quality`: State any planned quality assessment\n",
        "- `Variables`: For each variable, enter the following information. If you have two or more variables per data source, you may want to present this information in table form (shown below)\n",
        "  - `Label`: variable name as used in the data or code\n",
        "  - `Alias`: intuitive natural language name\n",
        "  - `Definition`: Short description or definition of the variable. Include measurement units in description.\n",
        "  - `Type`: data type, e.g. character string, integer, real\n",
        "  - `Accuracy`: e.g. uncertainty of measurements\n",
        "  - `Domain`: Expected range of Maximum and Minimum of numerical data, or codes or categories of nominal data, or reference to a standard codebook\n",
        "  - `Missing Data Value(s)`: Values used to represent missing data and frequency of missing data observations\n",
        "  - `Missing Data Frequency`: Frequency of missing data observations: not yet known for data to be collected\n",
        "\n",
        "| Label | Alias | Definition | Type | Accuracy | Domain | Missing Data Value(s) | Missing Data Frequency |\n",
        "| :--: | :--: | :--: | :--: | :--: | :--: | :--: | :--: |\n",
        "| variable1 | ... | ... | ... | ... | ... | ... | ... |\n",
        "| variable2 | ... | ... | ... | ... | ... | ... | ... |\n",
        "\n"
      ]
    },
    {
      "cell_type": "markdown",
      "metadata": {},
      "source": [
        "#### Primary data source2 name\n",
        "\n",
        "... same form as above...\n",
        "\n"
      ]
    },
    {
      "cell_type": "markdown",
      "metadata": {},
      "source": [
        "#### Secondary data source1 name\n",
        "\n",
        "**Standard Metadata**\n",
        "\n",
        "- `Abstract`: Brief description of the data source\n",
        "- `Spatial Coverage`: Specify the geographic extent of your study. This may be a place name and link to a feature in a gazetteer like GeoNames or OpenStreetMap, or a well known text (WKT) representation of a bounding box.\n",
        "- `Spatial Resolution`: Specify the spatial resolution as a scale factor, description of the level of detail of each unit of observation (including administrative level of administrative areas), and/or or distance of a raster GRID size\n",
        "- `Spatial Reference System`: Specify the geographic or projected coordinate system for the study\n",
        "- `Temporal Coverage`: Specify the temporal extent of your study---i.e. the range of time represented by the data observations.\n",
        "- `Temporal Resolution`: Specify the temporal resolution of your study---i.e. the duration of time for which each observation represents or the revisit period for repeated observations\n",
        "- `Lineage`: Describe and/or cite data sources and/or methodological steps used to create this data source\n",
        "- `Distribution`: Describe how the data is distributed, including any persistent identifier (e.g. DOI) or URL for data access\n",
        "- `Constraints`: Legal constraints for *access* or *use* to protect *privacy* or *intellectual property rights*\n",
        "- `Data Quality`: State result of quality assessment or state \"Quality unknown\"\n",
        "- `Variables`: For each variable, enter the following information. If you have two or more variables per data source, you may want to present this information in table form (shown below)\n",
        "  - `Label`: variable name as used in the data or code\n",
        "  - `Alias`: intuitive natural language name\n",
        "  - `Definition`: Short description or definition of the variable. Include measurement units in description.\n",
        "  - `Type`: data type, e.g. character string, integer, real\n",
        "  - `Accuracy`: e.g. uncertainty of measurements\n",
        "  - `Domain`: Range (Maximum and Minimum) of numerical data, or codes or categories of nominal data, or reference to a standard codebook\n",
        "  - `Missing Data Value(s)`: Values used to represent missing data and frequency of missing data observations\n",
        "  - `Missing Data Frequency`: Frequency of missing data observations\n",
        "\n",
        "| Label | Alias | Definition | Type | Accuracy | Domain | Missing Data Value(s) | Missing Data Frequency |\n",
        "| :--: | :--: | :--: | :--: | :--: | :--: | :--: | :--: |\n",
        "| variable1 | ... | ... | ... | ... | ... | ... | ... |\n",
        "| variable2 | ... | ... | ... | ... | ... | ... | ... |\n",
        "\n"
      ]
    },
    {
      "cell_type": "markdown",
      "metadata": {},
      "source": [
        "#### Secondary data source2 name\n",
        "\n",
        "... same form as above...\n",
        "\n"
      ]
    },
    {
      "cell_type": "markdown",
      "metadata": {},
      "source": [
        "### Prior observations  \n",
        "\n",
        "Prior experience with the study area, prior data collection, or prior observation of the data can compromise the validity of a study, e.g. through p-hacking.\n",
        "Therefore, disclose any prior experience or observations at the time of study pre-registration here, with example text below:\n",
        "\n",
        "At the time of this study pre-registration, the authors had _____ prior knowledge of the geography of the study region with regards to the ____ phenomena to be studied.\n",
        "This study is related to ____ prior studies by the authors\n",
        "\n",
        "For each primary data source, declare the extent to which authors had already engaged with the data:\n",
        "\n",
        "- [ ] no data collection has started\n",
        "- [ ] pilot test data has been collected\n",
        "- [ ] data collection is in progress and data has not been observed\n",
        "- [ ] data collection is in progress and __% of data has been observed\n",
        "- [ ] data collection is complete and data has been observed. Explain how authors have already manipulated / explored the data.\n",
        "\n",
        "For each secondary source, declare the extent to which authors had already engaged with the data:\n",
        "\n",
        "- [ ] data is not available yet\n",
        "- [ ] data is available, but only metadata has been observed\n",
        "- [ ] metadata and descriptive statistics have been observed\n",
        "- [ ] metadata and a pilot test subset or sample of the full dataset have been observed\n",
        "- [ ] the full dataset has been observed. Explain how authors have already manipulated / explored the data.\n",
        "\n",
        "If pilot test data has been collected or acquired, describe how the researchers observed and analyzed the pilot test, and the extent to which the pilot test influenced the research design.\n",
        "\n"
      ]
    },
    {
      "cell_type": "markdown",
      "metadata": {},
      "source": [
        "### Bias and threats to validity\n",
        "\n",
        "Given the research design and primary data to be collected and/or secondary data to be used, discuss common threats to validity and the approach to mitigating those threats, with an emphasis on geographic threats to validity.\n",
        "\n",
        "These include:\n",
        "  - uneven primary data collection due to geographic inaccessibility or other constraints\n",
        "  - multiple hypothesis testing\n",
        "  - edge or boundary effects\n",
        "  - the modifiable areal unit problem\n",
        "  - nonstationarity\n",
        "  - spatial dependence or autocorrelation\n",
        "  - temporal dependence or autocorrelation\n",
        "  - spatial scale dependency\n",
        "  - spatial anisotropies\n",
        "  - confusion of spatial and a-spatial causation\n",
        "  - ecological fallacy\n",
        "  - uncertainty e.g. from spatial disaggregation, anonymization, differential privacy\n",
        "\n"
      ]
    },
    {
      "cell_type": "markdown",
      "metadata": {},
      "source": [
        "### Data transformations\n",
        "\n",
        "Describe all data transformations planned to prepare data sources for analysis.\n",
        "This section should explain with the fullest detail possible how to transform data from the **raw** state at the time of acquisition or observation, to the pre-processed **derived** state ready for the main analysis.\n",
        "Including steps to check and mitigate sources of **bias** and **threats to validity**.\n",
        "The method may anticipate **contingencies**, e.g. tests for normality and alternative decisions to make based on the results of the test.\n",
        "More specifically, all the **geographic** and **variable** transformations required to prepare input data as described in the data and variables section above to match the study's spatio-temporal characteristics as described in the study metadata and study design sections.\n",
        "Visual workflow diagrams may help communicate the methodology in this section.\n",
        "\n",
        "Examples of **geographic** transformations include coordinate system transformations, aggregation, disaggregation, spatial interpolation, distance calculations, zonal statistics, etc.\n",
        "\n",
        "Examples of **variable** transformations include standardization, normalization, constructed variables, imputation, classification, etc.\n",
        "\n",
        "Be sure to include any steps planned to **exclude** observations with *missing* or *outlier* data, to **group** observations by *attribute* or *geographic* criteria, or to **impute** missing data or apply spatial or temporal **interpolation**.\n",
        "\n"
      ]
    },
    {
      "cell_type": "markdown",
      "metadata": {},
      "source": [
        "### Analysis\n",
        "\n",
        "Describe the methods of analysis that will directly test the hypotheses or provide results to answer the research questions.\n",
        "This section should explicitly define any spatial / statistical *models* and their *parameters*, including *grouping* criteria, *weighting* criteria, and *significance thresholds*.\n",
        "Also explain any follow-up analyses or validations.\n",
        "\n"
      ]
    },
    {
      "cell_type": "markdown",
      "metadata": {},
      "source": [
        "## Results\n",
        "\n",
        "Describe how results are to be presented.\n",
        "\n"
      ]
    },
    {
      "cell_type": "markdown",
      "metadata": {},
      "source": [
        "## Discussion\n",
        "\n",
        "Describe how the results are to be interpreted *vis a vis* each hypothesis or research question.\n",
        "\n"
      ]
    },
    {
      "cell_type": "markdown",
      "metadata": {},
      "source": [
        "## Integrity Statement\n",
        "\n",
        "Include an integrity statement - The authors of this preregistration state that they completed this preregistration to the best of their knowledge and that no other preregistration exists pertaining to the same hypotheses and research.\n",
        "If a prior registration *does* exist, explain the rationale for revising the registration here.\n",
        "\n"
      ]
    },
    {
      "cell_type": "markdown",
      "metadata": {},
      "source": [
        "# Acknowledgements\n",
        "\n",
        "- `Funding Name`: name of funding for the project\n",
        "- `Funding Title`: title of project grant\n",
        "- `Award info URI`: web address for award information\n",
        "- `Award number`: award number\n",
        "\n",
        "This report is based upon the template for Reproducible and Replicable Research in Human-Environment and Geographical Sciences, DOI:[10.17605/OSF.IO/W29MQ](https://doi.org/10.17605/OSF.IO/W29MQ)"
      ]
    },
    {
      "cell_type": "markdown",
      "metadata": {},
      "source": [
        "## References"
      ]
    }
  ],
  "metadata": {
    "colab": {
      "provenance": []
    },
    "kernelspec": {
      "display_name": "Python 3",
      "name": "python3"
    },
    "language_info": {
      "name": "python"
    },
    "orig_nbformat": 4
  },
  "nbformat": 4,
  "nbformat_minor": 0
}

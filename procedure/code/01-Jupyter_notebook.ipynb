{
  "cells": [
    {
      "cell_type": "markdown",
      "metadata": {
        "id": "7gUZzqUXf91d"
      },
      "source": [
        "# Analysis\n",
        "\n",
        "Template for Jupyter notebooks running Python."
      ]
    },
    {
      "cell_type": "markdown",
      "source": [
        "Version 0.1.0 \\| First Created July 12, 2023 \\| Updated August 01, 2023\n",
        "\n",
        "## Jupyter Notebook\n",
        "\n",
        "This is an Jupyter Notebook document. For more details on using a Jupyter Notebook see <https://docs.jupyter.org/en/latest/>.\n",
        "\n",
        "# Title of Study\n",
        "\n",
        "### Authors\n",
        "\n",
        "- First Name Last Name\\*, email address, @githubname, ORCID link, affiliated institution(s)\n",
        "- First Name Last Name, email address, @githubname, ORCID link, affiliated institution(s)\n",
        "\n",
        "\\* Corresponding author and creator\n",
        "\n",
        "### Abstract\n",
        "\n",
        "Write a brief abstract about your research project.\n",
        "\n",
        "If the project is a reproduction or replication study, include a declaration of the study type with a full reference to the original study.\n",
        "For example:\n",
        "\n",
        "This study is a *replication* of:\n",
        "\n",
        "> citation to prior study\n",
        "\n",
        "A graphical abstract of the study could also be included as an image here.\n",
        "\n",
        "### Study metadata\n",
        "\n",
        "- `Key words`: Comma-separated list of keywords (tags) for searchability. Geographers often use one or two keywords each for: theory, geographic context, and methods.\n",
        "- `Subject`: select from the [BePress Taxonomy](http://digitalcommons.bepress.com/cgi/viewcontent.cgi?article=1008&context=reference)\n",
        "- `Date created`: date when project was started\n",
        "- `Date modified`: date of most recent revision\n",
        "- `Spatial Coverage`: Specify the geographic extent of your study. This may be a place name and link to a feature in a gazetteer like GeoNames or OpenStreetMap, or a well known text (WKT) representation of a bounding box.\n",
        "- `Spatial Resolution`: Specify the spatial resolution as a scale factor, description of the level of detail of each unit of observation (including administrative level of administrative areas), and/or or distance of a raster GRID size\n",
        "- `Spatial Reference System`: Specify the geographic or projected coordinate system for the study, e.g. EPSG:4326\n",
        "- `Temporal Coverage`: Specify the temporal extent of your study---i.e. the range of time represented by the data observations.\n",
        "- `Temporal Resolution`: Specify the temporal resolution of your study---i.e. the duration of time for which each observation represents or the revisit period for repeated observations\n",
        "- `Funding Name`: name of funding for the project\n",
        "- `Funding Title`: title of project grant\n",
        "- `Award info URI`: web address for award information\n",
        "- `Award number`: award number\n",
        "\n",
        "#### Original study spatio-temporal metadata\n",
        "\n",
        "- `Spatial Coverage`: extent of original study\n",
        "- `Spatial Resolution`: resolution of original study\n",
        "- `Spatial Reference System`: spatial reference system of original study\n",
        "- `Temporal Coverage`: temporal extent of original study\n",
        "- `Temporal Resolution`: temporal resolution of original study\n",
        "\n",
        "## Study design\n",
        "\n",
        "Describe how the study relates to prior literature, e.g. is it a **original study**, **meta-analysis study**, **reproduction study**, **reanalysis study**, or **replication study**?\n",
        "\n",
        "Also describe the original study archetype, e.g. is it **observational**, **experimental**, **quasi-experimental**, or **exploratory**?\n",
        "\n",
        "Enumerate specific **hypotheses** to be tested or **research questions** to be investigated here, and specify the type of method, statistical test or model to be used on the hypothesis or question.\n",
        "\n",
        "## Materials and procedure"
      ],
      "metadata": {
        "id": "ynQbJHvcVm55"
      }
    },
    {
      "cell_type": "markdown",
      "source": [
        "## Computational environment\n",
        "\n",
        "Lines starting with `!` run in your **terminal**, not in Python.\n",
        "\n",
        "### Start from scratch\n",
        "\n",
        "(If you are using a disposable environment (such as Google Colab), then you can skip to the next section.)\n",
        "\n",
        "You can use [`pipenv`](https://pipenv.pypa.io/en/latest/) to manage any packages you need.\n",
        "\n",
        "First install `pipenv` by running the chunk below:"
      ],
      "metadata": {
        "id": "lpUbJuwsgQJu"
      }
    },
    {
      "cell_type": "code",
      "source": [
        "!pip install --user pipenv"
      ],
      "metadata": {
        "id": "YCGcY3lah0BU",
        "outputId": "cc60f5ec-03d5-4722-f16b-b3e096a186f4",
        "colab": {
          "base_uri": "https://localhost:8080/"
        }
      },
      "execution_count": null,
      "outputs": [
        {
          "output_type": "stream",
          "name": "stdout",
          "text": [
            "Collecting pipenv\n",
            "  Downloading pipenv-2023.7.11-py3-none-any.whl (2.8 MB)\n",
            "\u001b[2K     \u001b[90m━━━━━━━━━━━━━━━━━━━━━━━━━━━━━━━━━━━━━━━━\u001b[0m \u001b[32m2.8/2.8 MB\u001b[0m \u001b[31m16.7 MB/s\u001b[0m eta \u001b[36m0:00:00\u001b[0m\n",
            "\u001b[?25hRequirement already satisfied: certifi in /usr/local/lib/python3.10/dist-packages (from pipenv) (2023.5.7)\n",
            "Requirement already satisfied: setuptools>=67.0.0 in /usr/local/lib/python3.10/dist-packages (from pipenv) (67.7.2)\n",
            "Collecting virtualenv-clone>=0.2.5 (from pipenv)\n",
            "  Downloading virtualenv_clone-0.5.7-py3-none-any.whl (6.6 kB)\n",
            "Collecting virtualenv>=20.17.1 (from pipenv)\n",
            "  Downloading virtualenv-20.24.1-py3-none-any.whl (3.0 MB)\n",
            "\u001b[2K     \u001b[90m━━━━━━━━━━━━━━━━━━━━━━━━━━━━━━━━━━━━━━━━\u001b[0m \u001b[32m3.0/3.0 MB\u001b[0m \u001b[31m28.7 MB/s\u001b[0m eta \u001b[36m0:00:00\u001b[0m\n",
            "\u001b[?25hCollecting distlib<1,>=0.3.6 (from virtualenv>=20.17.1->pipenv)\n",
            "  Downloading distlib-0.3.7-py2.py3-none-any.whl (468 kB)\n",
            "\u001b[2K     \u001b[90m━━━━━━━━━━━━━━━━━━━━━━━━━━━━━━━━━━━━━━\u001b[0m \u001b[32m468.9/468.9 kB\u001b[0m \u001b[31m26.2 MB/s\u001b[0m eta \u001b[36m0:00:00\u001b[0m\n",
            "\u001b[?25hRequirement already satisfied: filelock<4,>=3.12 in /usr/local/lib/python3.10/dist-packages (from virtualenv>=20.17.1->pipenv) (3.12.2)\n",
            "Requirement already satisfied: platformdirs<4,>=3.5.1 in /usr/local/lib/python3.10/dist-packages (from virtualenv>=20.17.1->pipenv) (3.8.1)\n",
            "Installing collected packages: distlib, virtualenv-clone, virtualenv, pipenv\n",
            "\u001b[33m  WARNING: The script virtualenv-clone is installed in '/root/.local/bin' which is not on PATH.\n",
            "  Consider adding this directory to PATH or, if you prefer to suppress this warning, use --no-warn-script-location.\u001b[0m\u001b[33m\n",
            "\u001b[0m\u001b[33m  WARNING: The script virtualenv is installed in '/root/.local/bin' which is not on PATH.\n",
            "  Consider adding this directory to PATH or, if you prefer to suppress this warning, use --no-warn-script-location.\u001b[0m\u001b[33m\n",
            "\u001b[0m\u001b[33m  WARNING: The scripts pipenv and pipenv-resolver are installed in '/root/.local/bin' which is not on PATH.\n",
            "  Consider adding this directory to PATH or, if you prefer to suppress this warning, use --no-warn-script-location.\u001b[0m\u001b[33m\n",
            "\u001b[0mSuccessfully installed distlib-0.3.7 pipenv-2023.7.11 virtualenv-20.24.1 virtualenv-clone-0.5.7\n"
          ]
        }
      ]
    },
    {
      "cell_type": "markdown",
      "source": [
        "Then, install the packages you need using `pipenv install`.\n",
        "\n",
        "We will install `pyhere`, a package to simplify directory management.\n",
        "\n",
        "Check out its documentation [here](https://pypi.org/project/pyhere/).\n",
        "\n",
        "**Note**: if you run into the error `pipenv: command not found`, then replace `pipenv` with `python -m pipenv`."
      ],
      "metadata": {
        "id": "F-1ndcK1iFYD"
      }
    },
    {
      "cell_type": "code",
      "source": [
        "!python -m pipenv install pyhere"
      ],
      "metadata": {
        "id": "pKr_XDW4iEa5",
        "outputId": "eba58871-fe7d-4f2f-8268-9fa503f92d07",
        "colab": {
          "base_uri": "https://localhost:8080/"
        }
      },
      "execution_count": null,
      "outputs": [
        {
          "output_type": "stream",
          "name": "stdout",
          "text": [
            "\u001b[1mCreating a virtualenv for this project...\u001b[0m\n",
            "Pipfile: \u001b[33m\u001b[1m/content/Pipfile\u001b[0m\n",
            "\u001b[1mUsing default python from\u001b[0m \u001b[33m\u001b[1m/usr/bin/python3\u001b[0m \u001b[32m(3.10.6)\u001b[0m \u001b[1mto create virtualenv...\u001b[0m\n",
            "\u001b[2K\u001b[32m⠹\u001b[0m Creating virtual environment...\u001b[36mcreated virtual environment CPython3.10.6.final.0-64 in 1601ms\n",
            "  creator CPython3Posix(dest=/root/.local/share/virtualenvs/content-cQIIIOO2, clear=False, no_vcs_ignore=False, global=False)\n",
            "  seeder FromAppData(download=False, pip=bundle, setuptools=bundle, wheel=bundle, via=copy, app_data_dir=/root/.local/share/virtualenv)\n",
            "    added seed packages: pip==23.2, setuptools==68.0.0, wheel==0.40.0\n",
            "  activators BashActivator,CShellActivator,FishActivator,NushellActivator,PowerShellActivator,PythonActivator\n",
            "\u001b[0m\n",
            "✔ Successfully created virtual environment!\n",
            "\u001b[2K\u001b[32m⠸\u001b[0m Creating virtual environment...\n",
            "\u001b[1A\u001b[2K\u001b[32mVirtualenv location: /root/.local/share/virtualenvs/content-cQIIIOO2\u001b[0m\n",
            "\u001b[1mCreating a Pipfile for this project...\u001b[0m\n",
            "\u001b[32m\u001b[1mInstalling pyhere...\u001b[0m\n",
            "\u001b[?25lResolving pyhere\u001b[33m...\u001b[0m\n",
            "\u001b[2K\u001b[1mAdding \u001b[0m\u001b[1;32mpyhere\u001b[0m to Pipfile's \u001b[1;33m[\u001b[0m\u001b[33mpackages\u001b[0m\u001b[1;33m]\u001b[0m \u001b[33m...\u001b[0m\n",
            "\u001b[2K✔ Installation Succeeded\n",
            "\u001b[2K\u001b[32m⠋\u001b[0m Installing pyhere...\n",
            "\u001b[1A\u001b[2K\u001b[1mPipfile.lock not found, creating...\u001b[0m\n",
            "Locking\u001b[0m \u001b[33m[packages]\u001b[0m dependencies...\u001b[0m\n",
            "\u001b[?25lBuilding requirements\u001b[33m...\u001b[0m\n",
            "\u001b[2KResolving dependencies\u001b[33m...\u001b[0m\n",
            "\u001b[2K✔ Success!\n",
            "\u001b[2K\u001b[32m⠧\u001b[0m Locking...\n",
            "\u001b[1A\u001b[2KLocking\u001b[0m \u001b[33m[dev-packages]\u001b[0m dependencies...\u001b[0m\n",
            "\u001b[1mUpdated Pipfile.lock (55a3de81a4921858ffb7a5cdc8cc04cf085bda69717d143b6346d23cf393900c)!\u001b[0m\n",
            "\u001b[1mInstalling dependencies from Pipfile.lock (93900c)...\u001b[0m\n",
            "To activate this project's virtualenv, run \u001b[33mpipenv shell\u001b[0m.\n",
            "Alternatively, run a command inside the virtualenv with \u001b[33mpipenv run\u001b[0m.\n"
          ]
        }
      ]
    },
    {
      "cell_type": "markdown",
      "source": [
        "When you installed `pyhere`, `pipenv` created a virtual environment for you.\n",
        "\n",
        "You can see the virtualenv's location given above:\n",
        "\n",
        "```\n",
        "Virtualenv location: /root/.local/share/virtualenvs/content-cQIIIOO2\n",
        "```\n",
        "\n",
        "Next, follow [these instructions](https://jupyterlab.readthedocs.io/en/stable/getting_started/installation.html#pipenv) to launch Jupyter using the `pipenv` environment you just created."
      ],
      "metadata": {
        "id": "26gqe2mtjkwA"
      }
    },
    {
      "cell_type": "markdown",
      "metadata": {
        "id": "o5wVGooof91k"
      },
      "source": [
        "### Get existing packages\n",
        "If you already have some code that imports Python packages, the `pigar` package can help you figure out which packages you are using.\n",
        "\n",
        "Comment out the first line to run the code below.\n",
        "Run the code once, when you are finished with the analysis.\n",
        "This will generate a `requirements.txt` into `/procedure/environment` folder."
      ]
    },
    {
      "cell_type": "code",
      "execution_count": null,
      "metadata": {
        "colab": {
          "base_uri": "https://localhost:8080/"
        },
        "id": "0wzieMywf91l",
        "outputId": "3fca492a-80fc-454d-bfe8-4243253f2c88"
      },
      "outputs": [
        {
          "output_type": "stream",
          "name": "stdout",
          "text": [
            "Requirement already satisfied: pigar in /usr/local/lib/python3.10/dist-packages (2.1.1)\n",
            "Requirement already satisfied: click>=8.1 in /usr/local/lib/python3.10/dist-packages (from pigar) (8.1.4)\n",
            "Requirement already satisfied: nbformat>=5.7 in /usr/local/lib/python3.10/dist-packages (from pigar) (5.9.1)\n",
            "Requirement already satisfied: aiohttp>=3.8 in /usr/local/lib/python3.10/dist-packages (from pigar) (3.8.4)\n",
            "Requirement already satisfied: attrs>=17.3.0 in /usr/local/lib/python3.10/dist-packages (from aiohttp>=3.8->pigar) (23.1.0)\n",
            "Requirement already satisfied: charset-normalizer<4.0,>=2.0 in /usr/local/lib/python3.10/dist-packages (from aiohttp>=3.8->pigar) (2.0.12)\n",
            "Requirement already satisfied: multidict<7.0,>=4.5 in /usr/local/lib/python3.10/dist-packages (from aiohttp>=3.8->pigar) (6.0.4)\n",
            "Requirement already satisfied: async-timeout<5.0,>=4.0.0a3 in /usr/local/lib/python3.10/dist-packages (from aiohttp>=3.8->pigar) (4.0.2)\n",
            "Requirement already satisfied: yarl<2.0,>=1.0 in /usr/local/lib/python3.10/dist-packages (from aiohttp>=3.8->pigar) (1.9.2)\n",
            "Requirement already satisfied: frozenlist>=1.1.1 in /usr/local/lib/python3.10/dist-packages (from aiohttp>=3.8->pigar) (1.4.0)\n",
            "Requirement already satisfied: aiosignal>=1.1.2 in /usr/local/lib/python3.10/dist-packages (from aiohttp>=3.8->pigar) (1.3.1)\n",
            "Requirement already satisfied: fastjsonschema in /usr/local/lib/python3.10/dist-packages (from nbformat>=5.7->pigar) (2.17.1)\n",
            "Requirement already satisfied: jsonschema>=2.6 in /usr/local/lib/python3.10/dist-packages (from nbformat>=5.7->pigar) (4.3.3)\n",
            "Requirement already satisfied: jupyter-core in /usr/local/lib/python3.10/dist-packages (from nbformat>=5.7->pigar) (5.3.1)\n",
            "Requirement already satisfied: traitlets>=5.1 in /usr/local/lib/python3.10/dist-packages (from nbformat>=5.7->pigar) (5.7.1)\n",
            "Requirement already satisfied: pyrsistent!=0.17.0,!=0.17.1,!=0.17.2,>=0.14.0 in /usr/local/lib/python3.10/dist-packages (from jsonschema>=2.6->nbformat>=5.7->pigar) (0.19.3)\n",
            "Requirement already satisfied: idna>=2.0 in /usr/local/lib/python3.10/dist-packages (from yarl<2.0,>=1.0->aiohttp>=3.8->pigar) (3.4)\n",
            "Requirement already satisfied: platformdirs>=2.5 in /usr/local/lib/python3.10/dist-packages (from jupyter-core->nbformat>=5.7->pigar) (3.8.1)\n",
            "\u001b[34m18:35:49\u001b[39m \u001b[31mdistribution \"blinker\" may be not editable: NotADirectoryError(20, 'Not a directory')\u001b[39m\n",
            "\u001b[33mRequirements file has been overwritten, no difference.\u001b[39m\n",
            "\u001b[32mRequirements has been written to /environment/requirements.txt.\u001b[39m\n"
          ]
        }
      ],
      "source": [
        "%%script echo skipping\n",
        "!pip install pigar\n",
        "!python -m pigar generate -f ../environment/requirements.txt"
      ]
    },
    {
      "cell_type": "markdown",
      "source": [
        "#### Cleanup\n",
        "Depending on your setup, the list generated by `pigar` may require cleanup.\n",
        "\n",
        "The goal of cleanup is for the `requirements.txt` to contain only comments (lines starting with #) and lines of the format `[package]==[version]`.\n",
        "\n",
        "Thus, version `1.15.post1` of the `CensusData` package can be represented as `CensusData==1.15.post1`.\n",
        "\n",
        "An example is packages installed with `conda`.\n",
        "These entries may look somewhat like this:\n",
        "```python\n",
        "# Editable install with no version control (pandas==1.3.5)\n",
        "-e /cvmfs/cybergis.illinois.edu/software/conda/cybergisx/python3-0.9.0/lib/python3.8/site-packages/pandas-1.3.5-py3.8.egg-info\n",
        "```\n",
        "Since this essentially installs `pandas` version `1.3.5`, you can replace these two lines with `pandas==1.3.5`.\n",
        "\n",
        "### Virtual environments\n",
        "Alternatively, you can create environments with other tools, such [venv](https://docs.python.org/3/library/venv.html) or [conda](https://conda.io/projects/conda/en/latest/user-guide/tasks/manage-environments.html).\n",
        "\n",
        "Be sure to let Jupyter know what environment you are using - search for \"venv with jupyter\", for example."
      ],
      "metadata": {
        "id": "6whdTQbphAFN"
      }
    },
    {
      "cell_type": "markdown",
      "source": [
        "### Data and variables\n",
        "\n",
        "Describe the **data sources** and **variables** to be used.\n",
        "Data sources may include plans for observing and recording **primary data** or descriptions of **secondary data**.\n",
        "For secondary data sources with numerous variables, the analysis plan authors may focus on documenting only the variables intended for use in the study.\n",
        "\n",
        "Primary data sources for the study are to include ... .\n",
        "Secondary data sources for the study are to include ... .\n",
        "\n",
        "Each of the next subsections describes one data source.\n",
        "\n",
        "#### Primary data source1 name\n",
        "\n",
        "**Standard Metadata**\n",
        "\n",
        "- `Abstract`: Brief description of the data source\n",
        "- `Spatial Coverage`: Specify the geographic extent of your study. This may be a place name and link to a feature in a gazetteer like GeoNames or OpenStreetMap, or a well known text (WKT) representation of a bounding box.\n",
        "- `Spatial Resolution`: Specify the spatial resolution as a scale factor, description of the level of detail of each unit of observation (including administrative level of administrative areas), and/or or distance of a raster GRID size\n",
        "- `Spatial Reference System`: Specify the geographic or projected coordinate system for the study\n",
        "- `Temporal Coverage`: Specify the temporal extent of your study---i.e. the range of time represented by the data observations.\n",
        "- `Temporal Resolution`: Specify the temporal resolution of your study---i.e. the duration of time for which each observation represents or the revisit period for repeated observations\n",
        "- `Lineage`: Describe and/or cite data sources and/or methodological steps planned to create this data source.\n",
        "  - sampling scheme, including spatial sampling\n",
        "  - target sample size and method for determining sample size\n",
        "  - stopping criteria for data collection and sampling (e.g. sample size, time elapsed)\n",
        "  - de-identification / anonymization\n",
        "  - experimental manipulation\n",
        "- `Distribution`: Describe who will make the data available and how?\n",
        "- `Constraints`: Legal constraints for *access* or *use* to protect *privacy* or *intellectual property rights*\n",
        "- `Data Quality`: State any planned quality assessment\n",
        "- `Variables`: For each variable, enter the following information. If you have two or more variables per data source, you may want to present this information in table form (shown below)\n",
        "  - `Label`: variable name as used in the data or code\n",
        "  - `Alias`: intuitive natural language name\n",
        "  - `Definition`: Short description or definition of the variable. Include measurement units in description.\n",
        "  - `Type`: data type, e.g. character string, integer, real\n",
        "  - `Accuracy`: e.g. uncertainty of measurements\n",
        "  - `Domain`: Expected range of Maximum and Minimum of numerical data, or codes or categories of nominal data, or reference to a standard codebook\n",
        "  - `Missing Data Value(s)`: Values used to represent missing data and frequency of missing data observations\n",
        "  - `Missing Data Frequency`: Frequency of missing data observations: not yet known for data to be collected\n",
        "\n",
        "| Label | Alias | Definition | Type | Accuracy | Domain | Missing Data Value(s) | Missing Data Frequency |\n",
        "| :--: | :--: | :--: | :--: | :--: | :--: | :--: | :--: |\n",
        "| variable1 | ... | ... | ... | ... | ... | ... | ... |\n",
        "| variable2 | ... | ... | ... | ... | ... | ... | ... |\n",
        "\n",
        "#### Primary data source2 name\n",
        "\n",
        "... same form as above...\n",
        "\n",
        "#### Secondary data source1 name\n",
        "\n",
        "**Standard Metadata**\n",
        "\n",
        "- `Abstract`: Brief description of the data source\n",
        "- `Spatial Coverage`: Specify the geographic extent of your study. This may be a place name and link to a feature in a gazetteer like GeoNames or OpenStreetMap, or a well known text (WKT) representation of a bounding box.\n",
        "- `Spatial Resolution`: Specify the spatial resolution as a scale factor, description of the level of detail of each unit of observation (including administrative level of administrative areas), and/or or distance of a raster GRID size\n",
        "- `Spatial Reference System`: Specify the geographic or projected coordinate system for the study\n",
        "- `Temporal Coverage`: Specify the temporal extent of your study---i.e. the range of time represented by the data observations.\n",
        "- `Temporal Resolution`: Specify the temporal resolution of your study---i.e. the duration of time for which each observation represents or the revisit period for repeated observations\n",
        "- `Lineage`: Describe and/or cite data sources and/or methodological steps used to create this data source\n",
        "- `Distribution`: Describe how the data is distributed, including any persistent identifier (e.g. DOI) or URL for data access\n",
        "- `Constraints`: Legal constraints for *access* or *use* to protect *privacy* or *intellectual property rights*\n",
        "- `Data Quality`: State result of quality assessment or state \"Quality unknown\"\n",
        "- `Variables`: For each variable, enter the following information. If you have two or more variables per data source, you may want to present this information in table form (shown below)\n",
        "  - `Label`: variable name as used in the data or code\n",
        "  - `Alias`: intuitive natural language name\n",
        "  - `Definition`: Short description or definition of the variable. Include measurement units in description.\n",
        "  - `Type`: data type, e.g. character string, integer, real\n",
        "  - `Accuracy`: e.g. uncertainty of measurements\n",
        "  - `Domain`: Range (Maximum and Minimum) of numerical data, or codes or categories of nominal data, or reference to a standard codebook\n",
        "  - `Missing Data Value(s)`: Values used to represent missing data and frequency of missing data observations\n",
        "  - `Missing Data Frequency`: Frequency of missing data observations\n",
        "\n",
        "| Label | Alias | Definition | Type | Accuracy | Domain | Missing Data Value(s) | Missing Data Frequency |\n",
        "| :--: | :--: | :--: | :--: | :--: | :--: | :--: | :--: |\n",
        "| variable1 | ... | ... | ... | ... | ... | ... | ... |\n",
        "| variable2 | ... | ... | ... | ... | ... | ... | ... |\n",
        "\n",
        "#### Secondary data source2 name\n",
        "\n",
        "... same form as above...\n",
        "\n",
        "### Prior observations  \n",
        "\n",
        "Prior experience with the study area, prior data collection, or prior observation of the data can compromise the validity of a study, e.g. through p-hacking.\n",
        "Therefore, disclose any prior experience or observations at the time of study pre-registration here, with example text below:\n",
        "\n",
        "At the time of this study pre-registration, the authors had _____ prior knowledge of the geography of the study region with regards to the ____ phenomena to be studied.\n",
        "This study is related to ____ prior studies by the authors\n",
        "\n",
        "For each primary data source, declare the extent to which authors had already engaged with the data:\n",
        "\n",
        "- [ ] no data collection has started\n",
        "- [ ] pilot test data has been collected\n",
        "- [ ] data collection is in progress and data has not been observed\n",
        "- [ ] data collection is in progress and __% of data has been observed\n",
        "- [ ] data collection is complete and data has been observed. Explain how authors have already manipulated / explored the data.\n",
        "\n",
        "For each secondary source, declare the extent to which authors had already engaged with the data:\n",
        "\n",
        "- [ ] data is not available yet\n",
        "- [ ] data is available, but only metadata has been observed\n",
        "- [ ] metadata and descriptive statistics have been observed\n",
        "- [ ] metadata and a pilot test subset or sample of the full dataset have been observed\n",
        "- [ ] the full dataset has been observed. Explain how authors have already manipulated / explored the data.\n",
        "\n",
        "If pilot test data has been collected or acquired, describe how the researchers observed and analyzed the pilot test, and the extent to which the pilot test influenced the research design.\n",
        "\n",
        "### Bias and threats to validity\n",
        "\n",
        "Given the research design and primary data to be collected and/or secondary data to be used, discuss common threats to validity and the approach to mitigating those threats, with an emphasis on geographic threats to validity.\n",
        "\n",
        "These include:\n",
        "  - uneven primary data collection due to geographic inaccessibility or other constraints\n",
        "  - multiple hypothesis testing\n",
        "  - edge or boundary effects\n",
        "  - the modifiable areal unit problem\n",
        "  - nonstationarity\n",
        "  - spatial dependence or autocorrelation\n",
        "  - temporal dependence or autocorrelation\n",
        "  - spatial scale dependency\n",
        "  - spatial anisotropies\n",
        "  - confusion of spatial and a-spatial causation\n",
        "  - ecological fallacy\n",
        "  - uncertainty e.g. from spatial disaggregation, anonymization, differential privacy\n",
        "\n",
        "### Data transformations\n",
        "\n",
        "Describe all data transformations planned to prepare data sources for analysis.\n",
        "This section should explain with the fullest detail possible how to transform data from the **raw** state at the time of acquisition or observation, to the pre-processed **derived** state ready for the main analysis.\n",
        "Including steps to check and mitigate sources of **bias** and **threats to validity**.\n",
        "The method may anticipate **contingencies**, e.g. tests for normality and alternative decisions to make based on the results of the test.\n",
        "More specifically, all the **geographic** and **variable** transformations required to prepare input data as described in the data and variables section above to match the study's spatio-temporal characteristics as described in the study metadata and study design sections.\n",
        "Visual workflow diagrams may help communicate the methodology in this section.\n",
        "\n",
        "Examples of **geographic** transformations include coordinate system transformations, aggregation, disaggregation, spatial interpolation, distance calculations, zonal statistics, etc.\n",
        "\n",
        "Examples of **variable** transformations include standardization, normalization, constructed variables, imputation, classification, etc.\n",
        "\n",
        "Be sure to include any steps planned to **exclude** observations with *missing* or *outlier* data, to **group** observations by *attribute* or *geographic* criteria, or to **impute** missing data or apply spatial or temporal **interpolation**.\n",
        "\n",
        "### Analysis\n",
        "\n",
        "Describe the methods of analysis that will directly test the hypotheses or provide results to answer the research questions.\n",
        "This section should explicitly define any spatial / statistical *models* and their *parameters*, including *grouping* criteria, *weighting* criteria, and *significance thresholds*.\n",
        "Also explain any follow-up analyses or validations.\n",
        "\n",
        "## Results\n",
        "\n",
        "Describe how results are to be presented.\n",
        "\n",
        "## Discussion\n",
        "\n",
        "Describe how the results are to be interpreted *vis a vis* each hypothesis or research question.\n",
        "\n",
        "## Integrity Statement\n",
        "\n",
        "Include an integrity statement - The authors of this preregistration state that they completed this preregistration to the best of their knowledge and that no other preregistration exists pertaining to the same hypotheses and research.\n",
        "If a prior registration *does* exist, explain the rationale for revising the registration here.\n",
        "\n",
        "## References"
      ],
      "metadata": {
        "id": "dEwHjXmlVXZI"
      }
    }
  ],
  "metadata": {
    "colab": {
      "provenance": []
    },
    "kernelspec": {
      "display_name": "Python 3",
      "name": "python3"
    },
    "language_info": {
      "name": "python"
    },
    "orig_nbformat": 4
  },
  "nbformat": 4,
  "nbformat_minor": 0
}
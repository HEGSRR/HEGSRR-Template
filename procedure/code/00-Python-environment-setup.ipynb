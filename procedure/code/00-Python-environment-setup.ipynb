{
 "cells": [
  {
   "cell_type": "markdown",
   "metadata": {
    "id": "lpUbJuwsgQJu"
   },
   "source": [
    "# Computational environment\n",
    "\n",
    "Note: Lines starting with `!` run in your **terminal**, not in Python.\n",
    "\n",
    "## Recording\n",
    "\n",
    "Create a [virtual environment](https://realpython.com/python-virtual-environments-a-primer/) to ensure reproducibility in your Python packages.\n",
    "\n",
    "The following creates a virtual environment with [`pipenv`](https://pipenv.pypa.io/en/latest/).\n",
    "Other tools exist too, such as [venv](https://docs.python.org/3/library/venv.html) or [conda](https://conda.io/projects/conda/en/latest/user-guide/tasks/manage-environments.html).\n",
    "\n",
    "Be sure to let Jupyter know what environment you are using - search for \"venv with jupyter\", for example.\n",
    "\n",
    "Document the tools you choose to use, and instructions for recovering the computational environment, inside the `procedure/environment/readme.md` file.\n",
    "\n",
    "### `pipenv`\n",
    "\n",
    "First install `pipenv` by running the chunk below:"
   ]
  },
  {
   "cell_type": "code",
   "execution_count": null,
   "metadata": {
    "colab": {
     "base_uri": "https://localhost:8080/"
    },
    "id": "YCGcY3lah0BU",
    "outputId": "cc60f5ec-03d5-4722-f16b-b3e096a186f4"
   },
   "outputs": [
    {
     "name": "stdout",
     "output_type": "stream",
     "text": [
      "Collecting pipenv\n",
      "  Downloading pipenv-2023.7.11-py3-none-any.whl (2.8 MB)\n",
      "\u001b[2K     \u001b[90m━━━━━━━━━━━━━━━━━━━━━━━━━━━━━━━━━━━━━━━━\u001b[0m \u001b[32m2.8/2.8 MB\u001b[0m \u001b[31m16.7 MB/s\u001b[0m eta \u001b[36m0:00:00\u001b[0m\n",
      "\u001b[?25hRequirement already satisfied: certifi in /usr/local/lib/python3.10/dist-packages (from pipenv) (2023.5.7)\n",
      "Requirement already satisfied: setuptools>=67.0.0 in /usr/local/lib/python3.10/dist-packages (from pipenv) (67.7.2)\n",
      "Collecting virtualenv-clone>=0.2.5 (from pipenv)\n",
      "  Downloading virtualenv_clone-0.5.7-py3-none-any.whl (6.6 kB)\n",
      "Collecting virtualenv>=20.17.1 (from pipenv)\n",
      "  Downloading virtualenv-20.24.1-py3-none-any.whl (3.0 MB)\n",
      "\u001b[2K     \u001b[90m━━━━━━━━━━━━━━━━━━━━━━━━━━━━━━━━━━━━━━━━\u001b[0m \u001b[32m3.0/3.0 MB\u001b[0m \u001b[31m28.7 MB/s\u001b[0m eta \u001b[36m0:00:00\u001b[0m\n",
      "\u001b[?25hCollecting distlib<1,>=0.3.6 (from virtualenv>=20.17.1->pipenv)\n",
      "  Downloading distlib-0.3.7-py2.py3-none-any.whl (468 kB)\n",
      "\u001b[2K     \u001b[90m━━━━━━━━━━━━━━━━━━━━━━━━━━━━━━━━━━━━━━\u001b[0m \u001b[32m468.9/468.9 kB\u001b[0m \u001b[31m26.2 MB/s\u001b[0m eta \u001b[36m0:00:00\u001b[0m\n",
      "\u001b[?25hRequirement already satisfied: filelock<4,>=3.12 in /usr/local/lib/python3.10/dist-packages (from virtualenv>=20.17.1->pipenv) (3.12.2)\n",
      "Requirement already satisfied: platformdirs<4,>=3.5.1 in /usr/local/lib/python3.10/dist-packages (from virtualenv>=20.17.1->pipenv) (3.8.1)\n",
      "Installing collected packages: distlib, virtualenv-clone, virtualenv, pipenv\n",
      "\u001b[33m  WARNING: The script virtualenv-clone is installed in '/root/.local/bin' which is not on PATH.\n",
      "  Consider adding this directory to PATH or, if you prefer to suppress this warning, use --no-warn-script-location.\u001b[0m\u001b[33m\n",
      "\u001b[0m\u001b[33m  WARNING: The script virtualenv is installed in '/root/.local/bin' which is not on PATH.\n",
      "  Consider adding this directory to PATH or, if you prefer to suppress this warning, use --no-warn-script-location.\u001b[0m\u001b[33m\n",
      "\u001b[0m\u001b[33m  WARNING: The scripts pipenv and pipenv-resolver are installed in '/root/.local/bin' which is not on PATH.\n",
      "  Consider adding this directory to PATH or, if you prefer to suppress this warning, use --no-warn-script-location.\u001b[0m\u001b[33m\n",
      "\u001b[0mSuccessfully installed distlib-0.3.7 pipenv-2023.7.11 virtualenv-20.24.1 virtualenv-clone-0.5.7\n"
     ]
    }
   ],
   "source": [
    "!pip install --user pipenv"
   ]
  },
  {
   "cell_type": "markdown",
   "metadata": {
    "id": "F-1ndcK1iFYD"
   },
   "source": [
    "Then, install the packages you need using `pipenv install`.\n",
    "\n",
    "**Do not use** `pip`, since it will not record the install!\n",
    "\n",
    "We will install `pyhere`, a package to simplify directory management.\n",
    "\n",
    "Check out pyhere's documentation [here](https://pypi.org/project/pyhere/).\n",
    "\n",
    "**Note**: if you run into the error `pipenv: command not found`, then replace `pipenv` with `python -m pipenv`."
   ]
  },
  {
   "cell_type": "code",
   "execution_count": null,
   "metadata": {
    "colab": {
     "base_uri": "https://localhost:8080/"
    },
    "id": "pKr_XDW4iEa5",
    "outputId": "eba58871-fe7d-4f2f-8268-9fa503f92d07"
   },
   "outputs": [
    {
     "name": "stdout",
     "output_type": "stream",
     "text": [
      "\u001b[1mCreating a virtualenv for this project...\u001b[0m\n",
      "Pipfile: \u001b[33m\u001b[1m/content/Pipfile\u001b[0m\n",
      "\u001b[1mUsing default python from\u001b[0m \u001b[33m\u001b[1m/usr/bin/python3\u001b[0m \u001b[32m(3.10.6)\u001b[0m \u001b[1mto create virtualenv...\u001b[0m\n",
      "\u001b[2K\u001b[32m⠹\u001b[0m Creating virtual environment...\u001b[36mcreated virtual environment CPython3.10.6.final.0-64 in 1601ms\n",
      "  creator CPython3Posix(dest=/root/.local/share/virtualenvs/content-cQIIIOO2, clear=False, no_vcs_ignore=False, global=False)\n",
      "  seeder FromAppData(download=False, pip=bundle, setuptools=bundle, wheel=bundle, via=copy, app_data_dir=/root/.local/share/virtualenv)\n",
      "    added seed packages: pip==23.2, setuptools==68.0.0, wheel==0.40.0\n",
      "  activators BashActivator,CShellActivator,FishActivator,NushellActivator,PowerShellActivator,PythonActivator\n",
      "\u001b[0m\n",
      "✔ Successfully created virtual environment!\n",
      "\u001b[2K\u001b[32m⠸\u001b[0m Creating virtual environment...\n",
      "\u001b[1A\u001b[2K\u001b[32mVirtualenv location: /root/.local/share/virtualenvs/content-cQIIIOO2\u001b[0m\n",
      "\u001b[1mCreating a Pipfile for this project...\u001b[0m\n",
      "\u001b[32m\u001b[1mInstalling pyhere...\u001b[0m\n",
      "\u001b[?25lResolving pyhere\u001b[33m...\u001b[0m\n",
      "\u001b[2K\u001b[1mAdding \u001b[0m\u001b[1;32mpyhere\u001b[0m to Pipfile's \u001b[1;33m[\u001b[0m\u001b[33mpackages\u001b[0m\u001b[1;33m]\u001b[0m \u001b[33m...\u001b[0m\n",
      "\u001b[2K✔ Installation Succeeded\n",
      "\u001b[2K\u001b[32m⠋\u001b[0m Installing pyhere...\n",
      "\u001b[1A\u001b[2K\u001b[1mPipfile.lock not found, creating...\u001b[0m\n",
      "Locking\u001b[0m \u001b[33m[packages]\u001b[0m dependencies...\u001b[0m\n",
      "\u001b[?25lBuilding requirements\u001b[33m...\u001b[0m\n",
      "\u001b[2KResolving dependencies\u001b[33m...\u001b[0m\n",
      "\u001b[2K✔ Success!\n",
      "\u001b[2K\u001b[32m⠧\u001b[0m Locking...\n",
      "\u001b[1A\u001b[2KLocking\u001b[0m \u001b[33m[dev-packages]\u001b[0m dependencies...\u001b[0m\n",
      "\u001b[1mUpdated Pipfile.lock (55a3de81a4921858ffb7a5cdc8cc04cf085bda69717d143b6346d23cf393900c)!\u001b[0m\n",
      "\u001b[1mInstalling dependencies from Pipfile.lock (93900c)...\u001b[0m\n",
      "To activate this project's virtualenv, run \u001b[33mpipenv shell\u001b[0m.\n",
      "Alternatively, run a command inside the virtualenv with \u001b[33mpipenv run\u001b[0m.\n"
     ]
    }
   ],
   "source": [
    "!python -m pipenv install pyhere"
   ]
  },
  {
   "cell_type": "markdown",
   "metadata": {
    "id": "26gqe2mtjkwA"
   },
   "source": [
    "When you installed `pyhere`, `pipenv` created a virtual environment for you.\n",
    "\n",
    "You can see the virtualenv's location given above:\n",
    "\n",
    "```\n",
    "Virtualenv location: /root/.local/share/virtualenvs/content-cQIIIOO2\n",
    "```\n",
    "\n",
    "Next, follow [these instructions](https://jupyterlab.readthedocs.io/en/stable/getting_started/installation.html#pipenv) to launch Jupyter using the `pipenv` environment you just created.\n",
    "\n",
    "#### The Pipfile\n",
    "You will see two files in the current notebook folder; refresh JupyterLab's file explorer if you do not.\n",
    "\n",
    "When you are finished with the analysis, move **both** `Pipfile` and `Pipfile.lock` into the `/procedure/environment` folder."
   ]
  },
  {
   "cell_type": "markdown",
   "metadata": {
    "id": "o5wVGooof91k"
   },
   "source": [
    "### Record existing packages\n",
    "If you already have some code that imports Python packages, the `pigar` package can help you figure out which packages you are using.\n",
    "\n",
    "Comment out the first line to run the code below.\n",
    "Run the code once, when you are finished with the analysis and know what packages you are using.\n",
    "\n",
    "This will generate a `requirements.txt` in the `/procedure/environment` folder."
   ]
  },
  {
   "cell_type": "code",
   "execution_count": null,
   "metadata": {
    "colab": {
     "base_uri": "https://localhost:8080/"
    },
    "id": "0wzieMywf91l",
    "outputId": "3fca492a-80fc-454d-bfe8-4243253f2c88"
   },
   "outputs": [
    {
     "name": "stdout",
     "output_type": "stream",
     "text": [
      "Requirement already satisfied: pigar in /usr/local/lib/python3.10/dist-packages (2.1.1)\n",
      "Requirement already satisfied: click>=8.1 in /usr/local/lib/python3.10/dist-packages (from pigar) (8.1.4)\n",
      "Requirement already satisfied: nbformat>=5.7 in /usr/local/lib/python3.10/dist-packages (from pigar) (5.9.1)\n",
      "Requirement already satisfied: aiohttp>=3.8 in /usr/local/lib/python3.10/dist-packages (from pigar) (3.8.4)\n",
      "Requirement already satisfied: attrs>=17.3.0 in /usr/local/lib/python3.10/dist-packages (from aiohttp>=3.8->pigar) (23.1.0)\n",
      "Requirement already satisfied: charset-normalizer<4.0,>=2.0 in /usr/local/lib/python3.10/dist-packages (from aiohttp>=3.8->pigar) (2.0.12)\n",
      "Requirement already satisfied: multidict<7.0,>=4.5 in /usr/local/lib/python3.10/dist-packages (from aiohttp>=3.8->pigar) (6.0.4)\n",
      "Requirement already satisfied: async-timeout<5.0,>=4.0.0a3 in /usr/local/lib/python3.10/dist-packages (from aiohttp>=3.8->pigar) (4.0.2)\n",
      "Requirement already satisfied: yarl<2.0,>=1.0 in /usr/local/lib/python3.10/dist-packages (from aiohttp>=3.8->pigar) (1.9.2)\n",
      "Requirement already satisfied: frozenlist>=1.1.1 in /usr/local/lib/python3.10/dist-packages (from aiohttp>=3.8->pigar) (1.4.0)\n",
      "Requirement already satisfied: aiosignal>=1.1.2 in /usr/local/lib/python3.10/dist-packages (from aiohttp>=3.8->pigar) (1.3.1)\n",
      "Requirement already satisfied: fastjsonschema in /usr/local/lib/python3.10/dist-packages (from nbformat>=5.7->pigar) (2.17.1)\n",
      "Requirement already satisfied: jsonschema>=2.6 in /usr/local/lib/python3.10/dist-packages (from nbformat>=5.7->pigar) (4.3.3)\n",
      "Requirement already satisfied: jupyter-core in /usr/local/lib/python3.10/dist-packages (from nbformat>=5.7->pigar) (5.3.1)\n",
      "Requirement already satisfied: traitlets>=5.1 in /usr/local/lib/python3.10/dist-packages (from nbformat>=5.7->pigar) (5.7.1)\n",
      "Requirement already satisfied: pyrsistent!=0.17.0,!=0.17.1,!=0.17.2,>=0.14.0 in /usr/local/lib/python3.10/dist-packages (from jsonschema>=2.6->nbformat>=5.7->pigar) (0.19.3)\n",
      "Requirement already satisfied: idna>=2.0 in /usr/local/lib/python3.10/dist-packages (from yarl<2.0,>=1.0->aiohttp>=3.8->pigar) (3.4)\n",
      "Requirement already satisfied: platformdirs>=2.5 in /usr/local/lib/python3.10/dist-packages (from jupyter-core->nbformat>=5.7->pigar) (3.8.1)\n",
      "\u001b[34m18:35:49\u001b[39m \u001b[31mdistribution \"blinker\" may be not editable: NotADirectoryError(20, 'Not a directory')\u001b[39m\n",
      "\u001b[33mRequirements file has been overwritten, no difference.\u001b[39m\n",
      "\u001b[32mRequirements has been written to /environment/requirements.txt.\u001b[39m\n"
     ]
    }
   ],
   "source": [
    "%%script echo skipping\n",
    "!pip install pigar\n",
    "!python -m pigar generate -f ../environment/requirements.txt"
   ]
  },
  {
   "cell_type": "markdown",
   "metadata": {
    "id": "6whdTQbphAFN"
   },
   "source": [
    "#### Cleanup\n",
    "Depending on your setup, the list generated by `pigar` may require cleanup.\n",
    "\n",
    "The goal of cleanup is for the `requirements.txt` to contain only comments (lines starting with #) and lines of the format `[package]==[version]`.\n",
    "\n",
    "Thus, version `1.15.post1` of the `CensusData` package can be represented as `CensusData==1.15.post1`.\n",
    "\n",
    "An example is packages installed with `conda`.\n",
    "These entries may look somewhat like this:\n",
    "```python\n",
    "# Editable install with no version control (pandas==1.3.5)\n",
    "-e /cvmfs/cybergis.illinois.edu/software/conda/cybergisx/python3-0.9.0/lib/python3.8/site-packages/pandas-1.3.5-py3.8.egg-info\n",
    "```\n",
    "Since this essentially installs `pandas` version `1.3.5`, you can replace these two lines with `pandas==1.3.5`.\n"
   ]
  },
  {
   "cell_type": "markdown",
   "metadata": {},
   "source": [
    "## Recovering\n",
    "\n",
    "Depending on what is inside the `/procedure/environment` folder, you will recover the computational environment with different tools.\n",
    "\n",
    "### From a virtual environment\n",
    "\n",
    "If you have a `Pipfile` and a `Pipfile.lock`, run:"
   ]
  },
  {
   "cell_type": "code",
   "execution_count": null,
   "metadata": {},
   "outputs": [],
   "source": [
    "!cd ../environment\n",
    "!pipenv sync"
   ]
  },
  {
   "cell_type": "markdown",
   "metadata": {},
   "source": [
    "If you have a `Pipfile` but no `Pipfile.lock`, run:"
   ]
  },
  {
   "cell_type": "code",
   "execution_count": null,
   "metadata": {},
   "outputs": [],
   "source": [
    "!cd ../environment\n",
    "!pipenv install\n",
    "!pipenv sync"
   ]
  },
  {
   "cell_type": "markdown",
   "metadata": {},
   "source": [
    "If you have a `environment.yml`, run:"
   ]
  },
  {
   "cell_type": "code",
   "execution_count": null,
   "metadata": {},
   "outputs": [],
   "source": [
    "!conda env create -f environment.yml"
   ]
  },
  {
   "cell_type": "markdown",
   "metadata": {},
   "source": [
    "After you recover the virtual environment, activate it for the notebook environment you are using."
   ]
  },
  {
   "cell_type": "markdown",
   "metadata": {},
   "source": [
    "### From a list of packages\n",
    "\n",
    "If you have a `requirements.txt`, then you may want to create a virtual environment with `venv` or `pipenv`.\n",
    "\n",
    "But if you are on a disposable environment, e.g. Google Colab or Binder, then there is no need for a virtual environment;\n",
    "simply run the next code cell.\n",
    "\n",
    "Should you choose `venv`, then create a virtual environment, activate it, then run:"
   ]
  },
  {
   "cell_type": "code",
   "execution_count": null,
   "metadata": {},
   "outputs": [],
   "source": [
    "# run directly if disposable\n",
    "!pip install -r ../environment/requirements.txt"
   ]
  },
  {
   "cell_type": "markdown",
   "metadata": {},
   "source": [
    "If you choose `pipenv`, refer to the instructions [here](https://docs.pipenv.org/basics/#importing-from-requirements-txt)."
   ]
  }
 ],
 "metadata": {
  "language_info": {
   "name": "python"
  },
  "orig_nbformat": 4
 },
 "nbformat": 4,
 "nbformat_minor": 2
}
